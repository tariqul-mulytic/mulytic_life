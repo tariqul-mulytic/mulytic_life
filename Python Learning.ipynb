{
 "cells": [
  {
   "cell_type": "code",
   "execution_count": 9,
   "metadata": {},
   "outputs": [
    {
     "name": "stdout",
     "output_type": "stream",
     "text": [
      "No way home\n"
     ]
    }
   ],
   "source": [
    "a = input()\n",
    "b = input()\n",
    "\n",
    "if a == b:\n",
    "    print('Hello peter')\n",
    "elif a> b:\n",
    "    print('Dr octopas')\n",
    "else:\n",
    "    print('No way home')"
   ]
  },
  {
   "cell_type": "code",
   "execution_count": 18,
   "metadata": {},
   "outputs": [
    {
     "name": "stdout",
     "output_type": "stream",
     "text": [
      "hello peter how are you \n",
      "\n",
      "hello 5\n",
      "peter 5\n",
      "how 3\n",
      "are 3\n",
      "you 3\n"
     ]
    }
   ],
   "source": [
    "anime = ['hello','peter','how','are','you']\n",
    "for a in anime:\n",
    "    print(a,end = ' ')\n",
    "print('\\n')\n",
    "for a in anime:\n",
    "    print(a, len(a))"
   ]
  },
  {
   "cell_type": "code",
   "execution_count": 6,
   "metadata": {},
   "outputs": [
    {
     "name": "stdout",
     "output_type": "stream",
     "text": [
      "Hello\n",
      "('Math', 'Physics', 'Biology')\n",
      "{'name': 'Tariq', 'ID': 14101084, 'age': 25, 'dept': 'CSE'}\n"
     ]
    }
   ],
   "source": [
    "def student(greet,*arg,**kwargs):\n",
    "    print(greet)\n",
    "    print(arg)\n",
    "    print(kwargs)\n",
    "course = ['Math','Physics','Biology']\n",
    "info = {\n",
    "    'name' : 'Tariq',\n",
    "    'ID':14101084,\n",
    "    'age':25,\n",
    "    'dept':'CSE'\n",
    "}\n",
    "student('Hello',*course,**info)"
   ]
  },
  {
   "cell_type": "code",
   "execution_count": 18,
   "metadata": {},
   "outputs": [
    {
     "name": "stdout",
     "output_type": "stream",
     "text": [
      "31\n",
      "[0, 31, 28, 31, 30, 31, 30, 31, 31, 30, 31, 30, 31]\n"
     ]
    }
   ],
   "source": [
    "month_days = [0, 31, 28, 31, 30, 31, 30, 31, 31, 30, 31, 30, 31]\n",
    "\n",
    "def is_leap(year):\n",
    "    return year % 4 == 0 and (year % 100 != 0 or year % 400 == 0)\n",
    "\n",
    "def days_in_month(year, month):\n",
    "    if not 1 <= month <= 12:\n",
    "        return 'Invalid Month'\n",
    "    if month == 2 and is_leap(year):\n",
    "        return 29\n",
    "    return month_days[month]\n",
    "print(days_in_month(2004, 12))\n",
    "print(month_days)"
   ]
  },
  {
   "cell_type": "code",
   "execution_count": 3,
   "metadata": {},
   "outputs": [
    {
     "name": "stdout",
     "output_type": "stream",
     "text": [
      "5 4 5\n"
     ]
    }
   ],
   "source": [
    "def combined_example(pos_only, /, standard, *, kwd_only):\n",
    "    print(pos_only, standard, kwd_only)\n",
    "combined_example(5,standard=4,kwd_only=5)"
   ]
  },
  {
   "cell_type": "code",
   "execution_count": 67,
   "metadata": {},
   "outputs": [
    {
     "name": "stdout",
     "output_type": "stream",
     "text": [
      "['AFG', 'AUS', 'BAN', 'IND', 'NZW', 'RSA', 'SRL', 'PAK', 'WI', 'ENG']\n",
      "\t\t\t\t\t 10\n",
      "['AFG', 'AUS', 'BAN', 'IND', 'NZW', 'RSA', 'SRL', 'PAK', 'WI', 'ENG', 'USA']\n",
      "\t\t\t\t\t 11\n",
      "['AFG', 'AUS', 'BAN', 'IND', 'NZW', 'RSA', 'SRL', 'PAK', 'WI', 'ENG', 'USA', 'USSR']\n",
      "['USSR', 'GER']\n"
     ]
    },
    {
     "data": {
      "text/plain": [
       "['AFG',\n",
       " 'AUS',\n",
       " 'BAN',\n",
       " 'IND',\n",
       " 'NZW',\n",
       " 'RSA',\n",
       " 'SRL',\n",
       " 'PAK',\n",
       " 'WI',\n",
       " 'ENG',\n",
       " 'USA',\n",
       " 'USSR']"
      ]
     },
     "execution_count": 67,
     "metadata": {},
     "output_type": "execute_result"
    }
   ],
   "source": [
    "Country = ['AFG','AUS','BAN','IND','NZW','RSA','SRL','PAK','WI','ENG']\n",
    "ICC = ['USSR']\n",
    "print(Country)\n",
    "print(5*'\\t',len(Country))\n",
    "Country.append('USA')\n",
    "print(Country)\n",
    "print(5*'\\t',len(Country))\n",
    "Country.extend(ICC)\n",
    "print(Country)\n",
    "# print(5*'\\t',len(Country))\n",
    "ICC.insert(1,'GER')\n",
    "print(ICC)\n",
    "# ICC.remove('GER')\n",
    "# print(ICC)\n",
    "# print(Country)\n",
    "# Country.pop(-5)\n",
    "# print(Country)\n",
    "# ICC.clear()\n",
    "# print(ICC)\n",
    "# print(Country.index('IND',0,2))\n",
    "# print(Country.count('USA'))\n",
    "# Country.sort()\n",
    "# print(Country)\n",
    "Country.copy()"
   ]
  },
  {
   "cell_type": "code",
   "execution_count": 77,
   "metadata": {},
   "outputs": [
    {
     "name": "stdout",
     "output_type": "stream",
     "text": [
      "[1, 2, 3, 4]\n",
      "[1, 2, 3]\n",
      "[1, 2]\n",
      "[1]\n",
      "[]\n"
     ]
    }
   ],
   "source": [
    "#Stack\n",
    "stack = [1,2,3]\n",
    "stack.append(4)\n",
    "print(stack)\n",
    "stack.pop()\n",
    "print(stack)\n",
    "stack.pop()\n",
    "print(stack)\n",
    "stack.pop()\n",
    "print(stack)\n",
    "stack.pop()\n",
    "print(stack)"
   ]
  },
  {
   "cell_type": "code",
   "execution_count": 87,
   "metadata": {},
   "outputs": [
    {
     "name": "stdout",
     "output_type": "stream",
     "text": [
      "deque(['Eric', 'John', 'Mitchel'])\n",
      "deque(['Eric', 'John', 'Mitchel', 'Tomas'])\n",
      "deque(['Eric', 'John', 'Mitchel', 'Tomas', 'Graham'])\n",
      "deque(['John', 'Mitchel', 'Tomas', 'Graham'])\n",
      "deque(['Mitchel', 'Tomas', 'Graham'])\n"
     ]
    }
   ],
   "source": [
    "from collections import deque\n",
    "queue = deque(['Eric','John','Mitchel'])\n",
    "print(queue)\n",
    "queue.append('Tomas')\n",
    "print(queue)\n",
    "queue.append(\"Graham\")\n",
    "print(queue)\n",
    "queue.popleft()\n",
    "print(queue)\n",
    "queue.popleft()  \n",
    "print(queue)"
   ]
  },
  {
   "cell_type": "code",
   "execution_count": 91,
   "metadata": {},
   "outputs": [
    {
     "data": {
      "text/plain": [
       "[0, 1, 4, 9, 16, 25, 36, 49, 64, 81, 100, 121, 144, 169, 196]"
      ]
     },
     "execution_count": 91,
     "metadata": {},
     "output_type": "execute_result"
    }
   ],
   "source": [
    "squares = []\n",
    "for i in range(15):\n",
    "    squares.append(i**2)\n",
    "squares"
   ]
  },
  {
   "cell_type": "code",
   "execution_count": 122,
   "metadata": {},
   "outputs": [
    {
     "name": "stdout",
     "output_type": "stream",
     "text": [
      "[0, 1, 4, 9, 16, 25, 36, 49, 64, 81]\n",
      "[0, 1, 4, 9, 16, 25, 36, 49, 64, 81]\n"
     ]
    },
    {
     "data": {
      "text/plain": [
       "[(1, 2), (1, 3), (2, 3), (2, 1), (3, 2), (3, 1)]"
      ]
     },
     "execution_count": 122,
     "metadata": {},
     "output_type": "execute_result"
    }
   ],
   "source": [
    "print([x**2 for x in range(10)])\n",
    "# print(s)\n",
    "squares = list(map(lambda x: x**2, range(10)))\n",
    "print(squares)\n",
    "[(x,y) for x in [1,2,3] for y in [2,3,1] if (x!=y)]"
   ]
  },
  {
   "cell_type": "code",
   "execution_count": 158,
   "metadata": {},
   "outputs": [
    {
     "data": {
      "text/plain": [
       "[1, 2, 3, 4, 5, 6, 7, 8, 9]"
      ]
     },
     "execution_count": 158,
     "metadata": {},
     "output_type": "execute_result"
    }
   ],
   "source": [
    "freshfruit = ['          banana', '       ajaira ', '                       passion fruit  ']\n",
    "[rem.strip() for rem in freshfruit]\n",
    "\n",
    "[(x,x**2) for x in range(5)]\n",
    "\n",
    "vec = [[1,2,3], [4,5,6], [7,8,9]]\n",
    "[num for elem in vec for num in elem]"
   ]
  },
  {
   "cell_type": "code",
   "execution_count": 161,
   "metadata": {},
   "outputs": [
    {
     "data": {
      "text/plain": [
       "['3.1', '3.14', '3.142', '3.1416', '3.14159']"
      ]
     },
     "execution_count": 161,
     "metadata": {},
     "output_type": "execute_result"
    }
   ],
   "source": [
    "from math import pi\n",
    "[str(round(pi,i)) for i in range(1,6)]"
   ]
  },
  {
   "cell_type": "code",
   "execution_count": 10,
   "metadata": {},
   "outputs": [
    {
     "name": "stdout",
     "output_type": "stream",
     "text": [
      "[[1 5 1 1]\n",
      " [2 6 2 2]\n",
      " [3 7 3 3]\n",
      " [4 8 4 4]] [[1, 2, 3, 4], [5, 6, 7, 8], [1, 2, 3, 4], [1, 2, 3, 4]]\n",
      "****************************************\n",
      "[[ 1 10  3  4]\n",
      " [10 36 14 16]\n",
      " [ 3 14  9 12]\n",
      " [ 4 16 12 16]]\n"
     ]
    }
   ],
   "source": [
    "import numpy as np\n",
    "matrix = [\n",
    "    [1,2,3,4],\n",
    "    [5,6,7,8],\n",
    "    [1,2,3,4],\n",
    "    [1,2,3,4]\n",
    "]\n",
    "tr = np.transpose(matrix)\n",
    "print(tr,matrix)\n",
    "print(40*'*')\n",
    "mul = np.multiply(matrix,tr)\n",
    "print(mul)\n"
   ]
  },
  {
   "cell_type": "code",
   "execution_count": 20,
   "metadata": {},
   "outputs": [
    {
     "name": "stdout",
     "output_type": "stream",
     "text": [
      "[[1, 2, 3, 4], [5, 6, 7, 8], [1, 2, 3, 4], [1, 2, 3, 4]]\n",
      "[[1, 5, 1, 1], [2, 6, 2, 2], [3, 7, 3, 3], [4, 8, 4, 4]]\n",
      "[[1, 5, 1, 1], [2, 6, 2, 2], [3, 7, 3, 3], [4, 8, 4, 4]]\n"
     ]
    },
    {
     "data": {
      "text/plain": [
       "[(1, 5, 1, 1), (2, 6, 2, 2), (3, 7, 3, 3), (4, 8, 4, 4)]"
      ]
     },
     "execution_count": 20,
     "metadata": {},
     "output_type": "execute_result"
    }
   ],
   "source": [
    "matrix = [\n",
    "    [1,2,3,4],\n",
    "    [5,6,7,8],\n",
    "    [1,2,3,4],\n",
    "    [1,2,3,4]\n",
    "]\n",
    "print(matrix)\n",
    "print([[row[i] for row in matrix] for i in range(4)])\n",
    "\n",
    "transposed = []\n",
    "for i in range(4):\n",
    "    transposed.append([row[i] for row in matrix])\n",
    "print(transposed)\n",
    "list(zip(*matrix))"
   ]
  },
  {
   "cell_type": "code",
   "execution_count": null,
   "metadata": {},
   "outputs": [],
   "source": [
    "for num in range(1000000,1000050):\n",
    "    for i in range(2,num):\n",
    "        if num/2%i == 0:\n",
    "            # print(n,' is Not Prime')\n",
    "            print(num,' is not prime.  It is divisible by ',i,'.')\n",
    "            break\n",
    "    else:\n",
    "        print(num,' is a prime Number')\n"
   ]
  },
  {
   "cell_type": "code",
   "execution_count": 25,
   "metadata": {},
   "outputs": [
    {
     "name": "stdout",
     "output_type": "stream",
     "text": [
      "{1, 2, 3, 4, 5, 6, 7}\n",
      "{'i', 'd', 'n', 'a'}\n"
     ]
    }
   ],
   "source": [
    "set_test = {1,2,3,4,7,2,1,3,4,2,5,6}\n",
    "print(set_test)\n",
    "10 in set_test\n",
    "a = set('bindia')\n",
    "b = set('india')\n",
    "print(a.intersection(b))"
   ]
  },
  {
   "cell_type": "code",
   "execution_count": 41,
   "metadata": {},
   "outputs": [
    {
     "name": "stdout",
     "output_type": "stream",
     "text": [
      "{'name': 'Tariq', 'age': 25, 'city': 'Dhaka'}\n",
      "dict_items([('name', 'Tariq'), ('age', 25), ('city', 'Dhaka'), ('blood', 'o+')])\n",
      "None\n",
      "{'name': 'Hasan', 'age': 26, 'city': 'Pabna', 'blood': 'o+'}\n"
     ]
    }
   ],
   "source": [
    "def Join(emp1,emp2):\n",
    "    return emp1.update(emp2)\n",
    "emp1 = {\n",
    "    'name':'Tariq',\n",
    "    'age':25,\n",
    "    'city':'Dhaka'\n",
    "}\n",
    "emp2 = {\n",
    "    'name':'Hasan',\n",
    "    'age':26,\n",
    "    'city':'Pabna'\n",
    "}\n",
    "print(emp1)\n",
    "emp1['blood'] = 'o+'\n",
    "# print(emp1['name'])\n",
    "# sorted(emp.items())\n",
    "print(emp1.items())\n",
    "'name' in emp1\n",
    "'Dhaka' in emp1.values()\n",
    "print(emp1.update(emp2))\n",
    "# print(Join(emp1,emp2))\n",
    "print(emp1)\n",
    "# print(emp2)"
   ]
  },
  {
   "cell_type": "code",
   "execution_count": 50,
   "metadata": {},
   "outputs": [
    {
     "name": "stdout",
     "output_type": "stream",
     "text": [
      "{1: 1, 2: 1024, 3: 59049, 4: 1048576, 5: 9765625, 6: 60466176, 7: 282475249, 8: 1073741824, 9: 3486784401, 10: 10000000000}\n"
     ]
    }
   ],
   "source": [
    "print({x:x**10 for x in range(1,11)})\n"
   ]
  },
  {
   "cell_type": "code",
   "execution_count": 2,
   "metadata": {},
   "outputs": [
    {
     "name": "stdout",
     "output_type": "stream",
     "text": [
      "('physics', 'chemistry', 1997, 2000, 1)\n"
     ]
    }
   ],
   "source": [
    "tup = ('physics', 'chemistry', 1997, 2000, 1)\n",
    "print(tup)"
   ]
  },
  {
   "cell_type": "code",
   "execution_count": 51,
   "metadata": {},
   "outputs": [
    {
     "data": {
      "text/plain": [
       "{'name': 'Tariq', 'age': 25, 'city': 'Dhaka'}"
      ]
     },
     "execution_count": 51,
     "metadata": {},
     "output_type": "execute_result"
    }
   ],
   "source": [
    "dict(\n",
    "    name = 'Tariq',\n",
    "    age = 25,\n",
    "    city = 'Dhaka'\n",
    ")"
   ]
  },
  {
   "cell_type": "code",
   "execution_count": 60,
   "metadata": {},
   "outputs": [
    {
     "name": "stdout",
     "output_type": "stream",
     "text": [
      "a quick\n",
      "brown fox\n",
      "jump over\n",
      "the net\n"
     ]
    }
   ],
   "source": [
    "alp = {'a':'quick','brown':'fox','jump':'over','the':'net'}\n",
    "for x,y in alp.items():\n",
    "    print(x,y)"
   ]
  },
  {
   "cell_type": "code",
   "execution_count": 67,
   "metadata": {},
   "outputs": [
    {
     "name": "stdout",
     "output_type": "stream",
     "text": [
      "what is your age? it is 25\n",
      "what is your city? it is Dhaka\n",
      "what is your name? it is Tariq\n"
     ]
    }
   ],
   "source": [
    "ans = {'Tariq',25,'Dhaka'}\n",
    "ques = {'name','age','city'}\n",
    "for q,a in zip(ques,ans):\n",
    "    print(f'what is your {q}? it is {a}')"
   ]
  },
  {
   "cell_type": "code",
   "execution_count": 71,
   "metadata": {},
   "outputs": [
    {
     "name": "stdout",
     "output_type": "stream",
     "text": [
      "0 tic\n",
      "1 tac\n",
      "2 toe\n"
     ]
    }
   ],
   "source": [
    "for x,y in enumerate(['tic','tac','toe']):\n",
    "    print(x,y)\n"
   ]
  },
  {
   "cell_type": "code",
   "execution_count": 2,
   "metadata": {},
   "outputs": [
    {
     "name": "stdout",
     "output_type": "stream",
     "text": [
      "0 1 1 2 3 5 8 13 21 34 "
     ]
    }
   ],
   "source": [
    "def fib(n):\n",
    "    a,b = 0,1\n",
    "    while a<n:\n",
    "        print(a,end=' ')\n",
    "        a,b = b,a+b\n",
    "fib(50)"
   ]
  },
  {
   "cell_type": "code",
   "execution_count": 9,
   "metadata": {},
   "outputs": [],
   "source": [
    "def ask_ok_no(prompt, retries = 4, reminder = 'Please try again'):\n",
    "    while True:\n",
    "        ok = input(prompt)\n",
    "        if ok in ('y','ye','yes'):\n",
    "            return True\n",
    "        elif ok in ('n','nop','nope'):\n",
    "            return False\n",
    "        retries = retries - 1\n",
    "        if retries < 0:\n",
    "            raise ValueError('Invalid response')\n",
    "        print(reminder)"
   ]
  },
  {
   "cell_type": "code",
   "execution_count": 21,
   "metadata": {},
   "outputs": [
    {
     "name": "stdout",
     "output_type": "stream",
     "text": [
      "-- This parrot wouldn't voom if you put 100 volts through it.\n",
      "-- Lovely plumage, the Norwegian Blue\n",
      "-- It's a stiff !\n",
      "-- This parrot wouldn't voom if you put 1000 volts through it.\n",
      "-- Lovely plumage, the Norwegian Blue\n",
      "-- It's a stiff !\n",
      "-- This parrot wouldn't VOOOOOM if you put 1000000 volts through it.\n",
      "-- Lovely plumage, the Norwegian Blue\n",
      "-- It's a stiff !\n",
      "-- This parrot wouldn't VOOOOOM if you put 1000000 volts through it.\n",
      "-- Lovely plumage, the Norwegian Blue\n",
      "-- It's a stiff !\n",
      "-- This parrot wouldn't jump if you put a million volts through it.\n",
      "-- Lovely plumage, the Norwegian Blue\n",
      "-- It's bereft of life !\n",
      "-- This parrot wouldn't voom if you put a thousand volts through it.\n",
      "-- Lovely plumage, the Norwegian Blue\n",
      "-- It's pushing up the daisies !\n"
     ]
    }
   ],
   "source": [
    "def parrot(voltage, state='a stiff', action='voom', type='Norwegian Blue'):\n",
    "    print(\"-- This parrot wouldn't\", action, end=' ')\n",
    "    print(\"if you put\", voltage, \"volts through it.\")\n",
    "    print(\"-- Lovely plumage, the\", type)\n",
    "    print(\"-- It's\", state, \"!\")\n",
    "\n",
    "parrot(100)                                          # 1 positional argument\n",
    "parrot(voltage=1000)                                  # 1 keyword argument\n",
    "parrot(voltage=1000000, action='VOOOOOM')             # 2 keyword arguments\n",
    "parrot(action='VOOOOOM', voltage=1000000)             # 2 keyword arguments\n",
    "parrot('a million', 'bereft of life', 'jump')         # 3 positional arguments\n",
    "parrot('a thousand', state='pushing up the daisies')  # 1 positional, 1 keyword"
   ]
  },
  {
   "cell_type": "code",
   "execution_count": null,
   "metadata": {},
   "outputs": [],
   "source": [
    "def f(a,l = []):\n",
    "    l.append(a)\n",
    "    return l\n",
    "f(1)\n",
    "f(2)\n",
    "f(3)"
   ]
  },
  {
   "cell_type": "code",
   "execution_count": null,
   "metadata": {},
   "outputs": [],
   "source": [
    "i = 5\n",
    "def f(arg=i):\n",
    "    print(arg)\n",
    "i = 6\n",
    "f()"
   ]
  },
  {
   "cell_type": "code",
   "execution_count": null,
   "metadata": {},
   "outputs": [],
   "source": [
    "def fib2(n):\n",
    "    list_r = []\n",
    "    a,b = 0,1\n",
    "    while a < n:\n",
    "        list_r.append(a)\n",
    "        a,b = b,a+b\n",
    "    return list_r\n",
    "fibo = fib2(int(input()))\n",
    "print(fibo)"
   ]
  },
  {
   "cell_type": "code",
   "execution_count": 30,
   "metadata": {},
   "outputs": [
    {
     "name": "stdout",
     "output_type": "stream",
     "text": [
      "30\n"
     ]
    }
   ],
   "source": [
    "def function(a,x):\n",
    "    return a*x\n",
    "\n",
    "print(function(5,6))"
   ]
  },
  {
   "cell_type": "code",
   "execution_count": 33,
   "metadata": {},
   "outputs": [
    {
     "name": "stdout",
     "output_type": "stream",
     "text": [
      "Do u have any  Limburger ?\n",
      "I am sorry, we are all out of  Limburger\n",
      "It's very runny, sir.\n",
      "It's really very, VERY runny, sir.\n",
      "________________________________________\n",
      "shopkeeper  :  Michael Palin\n",
      "client  :  John Cleese\n",
      "sketch  :  Cheese Shop Sketch\n"
     ]
    }
   ],
   "source": [
    "def cheeseshop(kind,*arguments, **keywords):\n",
    "    print('Do u have any ',kind, '?')\n",
    "    print('I am sorry, we are all out of ',kind)\n",
    "    for arg in arguments:\n",
    "        print(arg)\n",
    "    print('_' * 40)\n",
    "    for kw in keywords:\n",
    "        print(kw,' : ',keywords[kw])\n",
    "\n",
    "cheeseshop('Limburger', 'It''s very runny, sir.', 'It''s really very, VERY runny, sir.', shopkeeper=\"Michael Palin\", client=\"John Cleese\", sketch=\"Cheese Shop Sketch\")"
   ]
  },
  {
   "cell_type": "code",
   "execution_count": 11,
   "metadata": {},
   "outputs": [
    {
     "name": "stdout",
     "output_type": "stream",
     "text": [
      "What type of army a/an Paladin is?\n",
      "Is there any  Paladin  out there\n",
      "T90-MBT\n",
      "Elite_Tos-15\n",
      "BTR-IFV\n",
      "Ajaira\n",
      "****************************************\n",
      "wasted : Nothing\n",
      "name : Apache\n",
      "mode : Air to Air & Air to Ground\n",
      "range : 250++\n",
      "speed : 4200\n"
     ]
    }
   ],
   "source": [
    "def thunderrun(army, *tanks, **airs):\n",
    "    print('What type of army a/an', army, 'is?')\n",
    "    print('Is there any ', army, ' out there')\n",
    "    for tank in tanks:\n",
    "        print(tank)\n",
    "    print(40*'*')\n",
    "    for air in airs:\n",
    "        print(air,':',airs[air])\n",
    "\n",
    "thunderrun('Paladin','T90-MBT','Elite_Tos-15', 'BTR-IFV', 'Ajaira', wasted='Nothing',name='Apache', mode= 'Air to Air & Air to Ground', range= '250++', speed=4200)"
   ]
  },
  {
   "cell_type": "code",
   "execution_count": 35,
   "metadata": {},
   "outputs": [
    {
     "name": "stdout",
     "output_type": "stream",
     "text": [
      "name = Tariq\n",
      "id = 14101084\n",
      "dept = CSE\n",
      "course = ['Math', 'Physics', 'CompSci', 'Database']\n"
     ]
    }
   ],
   "source": [
    "Student = {\n",
    "    'name':'Tariq',\n",
    "    'id':'14101084',\n",
    "    'dept':'CSE',\n",
    "    'course':['Math','Physics', 'CompSci','Database']\n",
    "    }\n",
    "# print(Student.get('course','Not_Found'))\n",
    "# print(Student.items())\n",
    "for key,value in Student.items():\n",
    "    print(key,'=',value)"
   ]
  },
  {
   "cell_type": "code",
   "execution_count": 88,
   "metadata": {},
   "outputs": [
    {
     "name": "stdout",
     "output_type": "stream",
     "text": [
      "found!\n"
     ]
    }
   ],
   "source": [
    "num = [1,2,3,4,5]\n",
    "for n in num:\n",
    "    for l in 'abcd':\n",
    "        if l == 'c':\n",
    "            print('Break time')\n",
    "            continue\n",
    "        print(n,l)\n",
    "for i in range(1,10):\n",
    "    if i == 3:\n",
    "        print('found!')\n",
    "        break\n",
    "    print(i)\n"
   ]
  },
  {
   "cell_type": "code",
   "execution_count": 97,
   "metadata": {},
   "outputs": [
    {
     "name": "stdout",
     "output_type": "stream",
     "text": [
      "name : Tariq\n",
      "id : 14101084\n",
      "dept : CSE\n",
      "batch : 35\n",
      "course : ['Math', 'Physics', 'CompSci', 'Database']\n"
     ]
    },
    {
     "data": {
      "text/plain": [
       "{'name': 'Tariq', 'id': '14101084', 'dept': 'CSE'}"
      ]
     },
     "execution_count": 97,
     "metadata": {},
     "output_type": "execute_result"
    }
   ],
   "source": [
    "\n",
    "def funcc(**ke):\n",
    "    for k in ke:\n",
    "        print(k,':',ke[k])\n",
    "funcc(name = 'Tariq',\n",
    "    id='14101084',\n",
    "    dept='CSE', \n",
    "    batch=35,\n",
    "    course=['Math','Physics', 'CompSci','Database']\n",
    "    )\n",
    "\n",
    "def std():\n",
    "    Student = {\n",
    "    'name':'Tariq',\n",
    "    'id':'14101084',\n",
    "    'dept':'CSE'\n",
    "    }\n",
    "    return Student\n",
    "std()\n"
   ]
  },
  {
   "cell_type": "code",
   "execution_count": 101,
   "metadata": {},
   "outputs": [
    {
     "name": "stdout",
     "output_type": "stream",
     "text": [
      "[56.2, 51.7, 55.3, 52.5, 47.8]\n"
     ]
    }
   ],
   "source": [
    "import math\n",
    "# for i in reversed(range(-5,10,2)):\n",
    "    # print(i)\n",
    "    #math.isnan(i)\n",
    "\n",
    "bucket = [56.2, float('NaN'), 51.7, 55.3, 52.5, float('NaN'), 47.8]\n",
    "nai = []\n",
    "for t in bucket:\n",
    "    if not math.isnan(t):\n",
    "        nai.append(t)\n",
    "print(nai)"
   ]
  },
  {
   "cell_type": "code",
   "execution_count": null,
   "metadata": {},
   "outputs": [],
   "source": [
    "for i in range(9,15):\n",
    "    for n in range (2,i):\n",
    "        if i%n == 0:\n",
    "            #print(i, 'is not Prime Number',i,' equals', n,'*',i//n)\n",
    "            break\n",
    "    else:\n",
    "        print(i,' is a prime number')\n",
    "\n"
   ]
  },
  {
   "cell_type": "code",
   "execution_count": 103,
   "metadata": {},
   "outputs": [
    {
     "data": {
      "text/plain": [
       "[0, 1, 1, 2, 3]"
      ]
     },
     "execution_count": 103,
     "metadata": {},
     "output_type": "execute_result"
    }
   ],
   "source": [
    "def fib2(n):   # return Fibonacci series up to n\n",
    "    result = []\n",
    "    a, b = 0, 1\n",
    "    while a < n:\n",
    "        result.append(a)\n",
    "        a, b = b, a+b\n",
    "    return result\n",
    "fib2(5)"
   ]
  },
  {
   "cell_type": "code",
   "execution_count": 104,
   "metadata": {},
   "outputs": [
    {
     "data": {
      "text/plain": [
       "[0, 1, 1, 2, 3]"
      ]
     },
     "execution_count": 104,
     "metadata": {},
     "output_type": "execute_result"
    }
   ],
   "source": [
    "def fib1(n):\n",
    "    res = []\n",
    "    a,b = 0,1\n",
    "    while(a<n):\n",
    "        res.append(a)\n",
    "        a,b = b,a+b\n",
    "    return res\n",
    "fib1(5)"
   ]
  },
  {
   "cell_type": "code",
   "execution_count": 119,
   "metadata": {},
   "outputs": [
    {
     "name": "stdout",
     "output_type": "stream",
     "text": [
      "42572654 YES votes 49.67%\n"
     ]
    }
   ],
   "source": [
    "yes_votes = 42572654\n",
    "no_votes = 43132495\n",
    "percentage = yes_votes / (yes_votes + no_votes)\n",
    "# '{:-9} YES votes  {:2.2%}'.format(yes_votes, percentage)\n",
    "print(f'{yes_votes} YES votes {percentage:2.2%}')\n"
   ]
  },
  {
   "cell_type": "code",
   "execution_count": 131,
   "metadata": {},
   "outputs": [
    {
     "name": "stdout",
     "output_type": "stream",
     "text": [
      "Hello World\n",
      "The value of x is 32.5, and y is 40000...\n",
      "hello, world\n",
      "\n"
     ]
    },
    {
     "data": {
      "text/plain": [
       "\"(32.5, 40000, ('spam', 'eggs'))\""
      ]
     },
     "execution_count": 131,
     "metadata": {},
     "output_type": "execute_result"
    }
   ],
   "source": [
    "s = 'Hello World'\n",
    "print(str(s))\n",
    "repr(s)\n",
    "str(1/7)+str('0001')\n",
    "x = 10 * 3.25\n",
    "y = 200 * 200\n",
    "s = 'The value of x is ' + repr(x) + ', and y is ' + repr(y) + '...'\n",
    "print(s)\n",
    "hello = 'hello, world\\n'\n",
    "hellos = repr(hello)\n",
    "print(hello)\n",
    "repr((x, y, ('spam', 'eggs')))"
   ]
  },
  {
   "cell_type": "code",
   "execution_count": 148,
   "metadata": {},
   "outputs": [
    {
     "name": "stdout",
     "output_type": "stream",
     "text": [
      "Name : Tariq      city : Dhaka     \n",
      "Name : Hasan      city : Pabna     \n",
      "Tariq:Dhaka Hasan:Pabna\n",
      "this is the story of John, Abo and henry\n"
     ]
    }
   ],
   "source": [
    "std = {'Tariq':'Dhaka','Hasan':'Pabna'}\n",
    "for name,city in std.items():\n",
    "    print(f'Name : {name:10} city : {city:10}')\n",
    "print('Tariq:{Tariq} Hasan:{Hasan}'.format(**std))\n",
    "\n",
    "print('this is the story of {0}, {1} and {2}'.format('John','Abo','henry'))"
   ]
  },
  {
   "cell_type": "code",
   "execution_count": 158,
   "metadata": {},
   "outputs": [
    {
     "name": "stdout",
     "output_type": "stream",
     "text": [
      "1   1          1\n",
      "2   4          4\n",
      "3   9         27\n",
      "4  16        256\n",
      "5  25       3125\n",
      "6  36      46656\n",
      "7  49     823543\n",
      "8  64   16777216\n",
      "9  81  387420489\n"
     ]
    }
   ],
   "source": [
    "for i in range(1,10):\n",
    "    print('{0:1d}{1:4d}{2:11d}'.format(i,i*i,i**i))"
   ]
  },
  {
   "cell_type": "code",
   "execution_count": 3,
   "metadata": {},
   "outputs": [],
   "source": [
    "import os\n",
    "dir_fd = os.open('test', os.O_RDONLY)\n",
    "def opener(path, flags):\n",
    "    return os.open(path, flags, dir_fd=dir_fd)\n",
    "\n",
    "# with open('spamspam.txt', 'w', opener=opener) as f:\n",
    "#     print('This will be written to somedir/spamspam.txt', file=f)\n",
    "\n",
    "# os.close(dir_fd)  # don't leak a file descriptor"
   ]
  },
  {
   "cell_type": "code",
   "execution_count": 43,
   "metadata": {},
   "outputs": [
    {
     "name": "stdout",
     "output_type": "stream",
     "text": [
      "def fib0(n):\n",
      "    a,b=0,1\n",
      "    while(a<n):\n",
      "        print(a,end=' ')\n",
      "        a,b = b,a+b\n",
      "        print()\n",
      "\n",
      "def fib1(n):\n",
      "    res = []\n",
      "    a,b = 0,1\n",
      "    while(a<n):\n",
      "        res.append(a)\n",
      "        a,b = b,a+b\n",
      "    return res\n",
      "fib1(5)"
     ]
    }
   ],
   "source": [
    "with open ('test') as f:\n",
    "    for line in f:\n",
    "        print(line, end='')\n",
    "        # te = list(f)\n",
    "        # print(40*'*')\n",
    "        # print(rl)\n",
    "    # print(te)\n",
    "f.close()"
   ]
  },
  {
   "cell_type": "code",
   "execution_count": 49,
   "metadata": {},
   "outputs": [
    {
     "name": "stdout",
     "output_type": "stream",
     "text": [
      "Times remaining  00:05\n",
      "Times remaining  00:04\n",
      "Times remaining  00:03\n",
      "Times remaining  00:02\n",
      "Times remaining  00:01\n"
     ]
    }
   ],
   "source": [
    "import time\n",
    "\n",
    "def timer(t):\n",
    "    while t!=0:\n",
    "        min,sec = divmod(t,60)\n",
    "        timer = '{:02d}:{:02d}'.format(min,sec)\n",
    "        print('Times remaining ',timer)\n",
    "        time.sleep(1)\n",
    "        t -=1\n",
    "        # print()\n",
    "\n",
    "t = input(\"Enter the time in seconds: \")\n",
    "timer(int(t))"
   ]
  },
  {
   "cell_type": "code",
   "execution_count": 309,
   "metadata": {},
   "outputs": [
    {
     "name": "stdout",
     "output_type": "stream",
     "text": [
      "Hello World('The answer', 42)\n",
      "('The answer', 42)\n"
     ]
    }
   ],
   "source": [
    "f = open('test','r')\n",
    "print(f.read())\n",
    "# f.write('Hello World')\n",
    "value = ('The answer',42)\n",
    "s = str(value)\n",
    "print(s)\n",
    "# f.write(s)\n",
    "# f.close()"
   ]
  },
  {
   "cell_type": "code",
   "execution_count": 336,
   "metadata": {},
   "outputs": [],
   "source": [
    "# f = open('test','r+')\n",
    "# f.write('0987654321')\n",
    "# f.seek(-3, 2)\n",
    "# f.read()"
   ]
  },
  {
   "cell_type": "code",
   "execution_count": 18,
   "metadata": {},
   "outputs": [
    {
     "name": "stdout",
     "output_type": "stream",
     "text": [
      "[1, 'simple', 'list']\n"
     ]
    }
   ],
   "source": [
    "import json\n",
    "\n",
    "f = open('test','r+')\n",
    "x = [1,'simple','list']\n",
    "# json.dumps(x)\n",
    "json.dump(x,f)\n",
    "# x = json.load(f)\n",
    "print(x)\n"
   ]
  },
  {
   "cell_type": "code",
   "execution_count": 5,
   "metadata": {},
   "outputs": [],
   "source": [
    "with open('test','r+') as ff:\n",
    "    ff.read()\n"
   ]
  },
  {
   "cell_type": "code",
   "execution_count": 26,
   "metadata": {},
   "outputs": [
    {
     "name": "stdout",
     "output_type": "stream",
     "text": [
      "Opps,  \n",
      "Opps,  \n",
      "Opps,  \n",
      "Opps,  \n",
      "Opps,  \n"
     ]
    }
   ],
   "source": [
    "while True:\n",
    "    try:\n",
    "        x = int(input('Insert a number'))\n",
    "        break\n",
    "        \n",
    "    except ValueError:\n",
    "        print('Opps!! wrong input')"
   ]
  },
  {
   "cell_type": "code",
   "execution_count": 4,
   "metadata": {},
   "outputs": [
    {
     "data": {
      "text/plain": [
       "True"
      ]
     },
     "execution_count": 4,
     "metadata": {},
     "output_type": "execute_result"
    }
   ],
   "source": [
    "a = 'ssh-rsa AAAAB3NzaC1yc2EAAAADAQABAAACAQDOxcCOHQmH7KU5rm0DZ51Xmt0+t/0nNXOoJSYq+rb3/8AGtRtMXyapwONmGI1ACJFtIG5ngRBnn+885mO77fgPXEcCLz8GO7q8ChiyFNNwJBEdx7h4WDnQCN1S3+JYkjRDebAUBohde8Z0V8zS85JYKJPBJA6ift48JLNkMZBzfb0keZZPHKFXnPTafbPYTLRpF+LbqilAjaF/dsATavsiuwYqIO05UYoSPQTqey0+z93bauqG/yKn3Oif5UxBSCzlrh3IiF2v0PlTmiY4j421eaZbMw9yLj30HyNsIQ2TeGPzoX058izslMCDfo7LIJo47ZvjbFY98p9xygjPhjrxCeM9QmqKmtx1kw4zZbXiv3eSxwD8IFZJpdnes1GPSn02sMsKU2ASGc2kmGyobpgZ0zrB+VSzLH5mJGd713C6MEZcHk+UHZyIn/2dfBGwtNh6Fmoi8F8Bf4XPW0e5tIATneN1FWoHYrIPTvO7bBG0K8M/wnnazJlTUIsnAeJNx+ZgcJY+RjAb7+tEv9VJmUYw5NPt3aIEkkE8TeVjT1KclRZ8TxnWTz+7yFiAd42pu9QMK+HlJKJ46Al4r0ImtwlQj92jbXZXfL6auNFV++pxkh0/9RAhoqpyCL5P3b4RTW4Gum7Jt3vL9evLPH0uv6FVpzhbF4zP4QeBjE9uoSTKEQ== fariha.elahee@mulytic.io'\n",
    "b = 'ssh-rsa AAAAB3NzaC1yc2EAAAADAQABAAACAQDOxcCOHQmH7KU5rm0DZ51Xmt0+t/0nNXOoJSYq+rb3/8AGtRtMXyapwONmGI1ACJFtIG5ngRBnn+885mO77fgPXEcCLz8GO7q8ChiyFNNwJBEdx7h4WDnQCN1S3+JYkjRDebAUBohde8Z0V8zS85JYKJPBJA6ift48JLNkMZBzfb0keZZPHKFXnPTafbPYTLRpF+LbqilAjaF/dsATavsiuwYqIO05UYoSPQTqey0+z93bauqG/yKn3Oif5UxBSCzlrh3IiF2v0PlTmiY4j421eaZbMw9yLj30HyNsIQ2TeGPzoX058izslMCDfo7LIJo47ZvjbFY98p9xygjPhjrxCeM9QmqKmtx1kw4zZbXiv3eSxwD8IFZJpdnes1GPSn02sMsKU2ASGc2kmGyobpgZ0zrB+VSzLH5mJGd713C6MEZcHk+UHZyIn/2dfBGwtNh6Fmoi8F8Bf4XPW0e5tIATneN1FWoHYrIPTvO7bBG0K8M/wnnazJlTUIsnAeJNx+ZgcJY+RjAb7+tEv9VJmUYw5NPt3aIEkkE8TeVjT1KclRZ8TxnWTz+7yFiAd42pu9QMK+HlJKJ46Al4r0ImtwlQj92jbXZXfL6auNFV++pxkh0/9RAhoqpyCL5P3b4RTW4Gum7Jt3vL9evLPH0uv6FVpzhbF4zP4QeBjE9uoSTKEQ== fariha.elahee@mulytic.io'\n",
    "a == b\n",
    "\n",
    "\n",
    "\n",
    "\n",
    "c = 'fariha:$6$avejq03Iah9ejX6a$G3UdMRhwft0e8b4Tk2SxTmXdxG5nv2AbigymsLKjp3u/FARtCW9yXrBzgG/39w55yP7TScDzUxD8hfUnrmf6g.'\n",
    "d = 'fariha:$6$avejq03Iah9ejX6a$G3UdMRhwft0e8b4Tk2SxTmXdxG5nv2AbigymsLKjp3u/FARtCW9yXrBzgG/39w55yP7TScDzUxD8hfUnrmf6g.'\n",
    "\n",
    "c == d"
   ]
  },
  {
   "cell_type": "code",
   "execution_count": 7,
   "metadata": {},
   "outputs": [
    {
     "name": "stdout",
     "output_type": "stream",
     "text": [
      "B\n",
      "C\n",
      "D\n"
     ]
    }
   ],
   "source": [
    "class B(Exception):\n",
    "    pass\n",
    "\n",
    "class C(B):\n",
    "    pass\n",
    "\n",
    "class D(C):\n",
    "    pass\n",
    "\n",
    "for cls in [B, C, D]:\n",
    "    try:\n",
    "        raise cls()\n",
    "    except D:\n",
    "        print(\"D\")\n",
    "    except C:\n",
    "        print(\"C\")\n",
    "    except B:\n",
    "        print(\"B\")"
   ]
  },
  {
   "cell_type": "code",
   "execution_count": 21,
   "metadata": {},
   "outputs": [
    {
     "name": "stdout",
     "output_type": "stream",
     "text": [
      "This is AA\n"
     ]
    }
   ],
   "source": [
    "class Aa:\n",
    "    x1 = 'This is AA'\n",
    "class Ab(Aa):\n",
    "    x2 = 'This is BB'\n",
    "class Ac(Ab):\n",
    "    x3 = 'This is CC'\n",
    "class Ad(Ac):\n",
    "    x4 = 'This is DD'\n",
    "\n",
    "aa = Aa\n",
    "bb = Ab\n",
    "cc = Ac\n",
    "dd = Ad\n",
    "print(dd.x1)"
   ]
  },
  {
   "cell_type": "code",
   "execution_count": 45,
   "metadata": {},
   "outputs": [
    {
     "name": "stdout",
     "output_type": "stream",
     "text": [
      "0 1 1 2 3 5 8 13 "
     ]
    }
   ],
   "source": [
    "class fibo:\n",
    "    a,b = 0,1\n",
    "    while a < n:\n",
    "        print(a,end=' ')\n",
    "        a,b = b,a+b\n",
    "n = int(input())\n",
    "# Fi = fibo()\n",
    "# print(n)\n"
   ]
  },
  {
   "cell_type": "code",
   "execution_count": 46,
   "metadata": {},
   "outputs": [
    {
     "name": "stdout",
     "output_type": "stream",
     "text": [
      "OS error: [Errno 2] No such file or directory: 'myfile.txt'\n"
     ]
    }
   ],
   "source": [
    "import sys\n",
    "\n",
    "try:\n",
    "    f = open('myfile.txt')\n",
    "    s = f.readline()\n",
    "    i = int(s.strip())\n",
    "except OSError as err:\n",
    "    print(\"OS error: {0}\".format(err))\n",
    "except ValueError:\n",
    "    print(\"Could not convert data to an integer.\")\n",
    "except:\n",
    "    print(\"Unexpected error:\", sys.exc_info()[0])\n",
    "    raise"
   ]
  },
  {
   "cell_type": "code",
   "execution_count": 3,
   "metadata": {},
   "outputs": [
    {
     "data": {
      "text/plain": [
       "True"
      ]
     },
     "execution_count": 3,
     "metadata": {},
     "output_type": "execute_result"
    }
   ],
   "source": [
    "pp = 'ssh-rsa AAAAB3NzaC1yc2EAAAADAQABAAACAQDyEF8PqDdswiE+amvIotj/ATylFLSXM2lzV0Lf72Clfv3Hmm99IqaVdMzOcOokl3jlrVB6533A1+NNZcnvDJ3C4XMrTYzKWGxSKnMLJGR2sLJdKIedLho7vMZO92K1abUQqiiWzV1sudDuLPkfwvK7T7eiivibr+UUb614LPZBSH0Uq8FQBrQ8ZljRdwYd55NVZ8gUtp81IE8Q+cHSaMh4zd4Gjz6iKNIIa6jf5lcntMMcnrzmQvpFa8iVbtSnGMIVWzgKRWxCx09IX/bjBBHUMYy6QCM0rL4MckUabHivIbUBoUyX5vC+EtfGOu7uFT8yXcs+YD6rTGctm8f60TfWerrdLQ5U9BKHg1T3ahDPUgxb2mQmv/o5joIczBA6xWZqqCNvS3UErYGpkjvB3Gq5viUQ9z3rcs3DEXgHxrzuc6ws+x9HvINj8CARmvAxRlNV5B4l50/aMb44ns5CPlEykt0z5obb54lLe1HtziDqYQouUpU3pFx5SRw2e+7sDPK94qEcgges90q439CwtFzTH6+OtVyIyHYTtDPEf7jlFnQDJW9T7T9H0WpdeYExFcEjVOma0gtt2iNJMpdoMyAj7bFtGXJgiIup6AVYO3HSrN1f12BrwNVJAGxZh9qdB9pEJPjayrT0aOJCSSXYJxKl08mazT/o7oTmmXxpHZJcXw== pranta.saha@mulytic.io'\n",
    "pa = 'ssh-rsa AAAAB3NzaC1yc2EAAAADAQABAAACAQDyEF8PqDdswiE+amvIotj/ATylFLSXM2lzV0Lf72Clfv3Hmm99IqaVdMzOcOokl3jlrVB6533A1+NNZcnvDJ3C4XMrTYzKWGxSKnMLJGR2sLJdKIedLho7vMZO92K1abUQqiiWzV1sudDuLPkfwvK7T7eiivibr+UUb614LPZBSH0Uq8FQBrQ8ZljRdwYd55NVZ8gUtp81IE8Q+cHSaMh4zd4Gjz6iKNIIa6jf5lcntMMcnrzmQvpFa8iVbtSnGMIVWzgKRWxCx09IX/bjBBHUMYy6QCM0rL4MckUabHivIbUBoUyX5vC+EtfGOu7uFT8yXcs+YD6rTGctm8f60TfWerrdLQ5U9BKHg1T3ahDPUgxb2mQmv/o5joIczBA6xWZqqCNvS3UErYGpkjvB3Gq5viUQ9z3rcs3DEXgHxrzuc6ws+x9HvINj8CARmvAxRlNV5B4l50/aMb44ns5CPlEykt0z5obb54lLe1HtziDqYQouUpU3pFx5SRw2e+7sDPK94qEcgges90q439CwtFzTH6+OtVyIyHYTtDPEf7jlFnQDJW9T7T9H0WpdeYExFcEjVOma0gtt2iNJMpdoMyAj7bFtGXJgiIup6AVYO3HSrN1f12BrwNVJAGxZh9qdB9pEJPjayrT0aOJCSSXYJxKl08mazT/o7oTmmXxpHZJcXw== pranta.saha@mulytic.io'\n",
    "\n",
    "pp == pa\n",
    "\n",
    "\n",
    "la = 'pranta:$6$yd9hfZIXiINbL4hq$AROfpv.qlLEM9ZoDLLcQOWuGHF55Sj721opIgvxTdAa2JM4GWx88BRb0qth2/OhZIyctry8mY6xPj92RM6Nc30'\n",
    "lb = 'pranta:$6$yd9hfZIXiINbL4hq$AROfpv.qlLEM9ZoDLLcQOWuGHF55Sj721opIgvxTdAa2JM4GWx88BRb0qth2/OhZIyctry8mY6xPj92RM6Nc30'\n",
    "\n",
    "la == lb"
   ]
  },
  {
   "cell_type": "code",
   "execution_count": 5,
   "metadata": {},
   "outputs": [
    {
     "name": "stdout",
     "output_type": "stream",
     "text": [
      "\n",
      "\n",
      "\n",
      "3\n"
     ]
    }
   ],
   "source": [
    "while True:\n",
    "    try:\n",
    "        x = int(input('Please enter a number: '))\n",
    "        print(x)\n",
    "        break\n",
    "    except:\n",
    "        print(ValueError)"
   ]
  },
  {
   "cell_type": "code",
   "execution_count": 11,
   "metadata": {},
   "outputs": [
    {
     "name": "stdout",
     "output_type": "stream",
     "text": [
      "x = spam\n",
      "y = eggs\n",
      "z = Hello\n"
     ]
    }
   ],
   "source": [
    "try:\n",
    "    raise Exception('spam', 'eggs','Hello')\n",
    "except Exception as inst:\n",
    "    # print(type(inst))    # the exception instance\n",
    "    # print(inst.args)     # arguments stored in .args\n",
    "    # print(inst)          # __str__ allows args to be printed directly,\n",
    "                         # but may be overridden in exception subclasses\n",
    "    x, y ,z= inst.args     # unpack args\n",
    "    print('x =', x)\n",
    "    print('y =', y)\n",
    "    print('z =', z)\n"
   ]
  },
  {
   "cell_type": "code",
   "execution_count": 35,
   "metadata": {},
   "outputs": [
    {
     "name": "stdout",
     "output_type": "stream",
     "text": [
      "1\n",
      "2\n",
      "3\n",
      "4\n",
      "5\n"
     ]
    }
   ],
   "source": [
    "# i = 'hello_world'\n",
    "x = 0\n",
    "while x < 6:\n",
    "  x += 1\n",
    "  if x == 6:\n",
    "    break\n",
    "  print(x)"
   ]
  },
  {
   "cell_type": "code",
   "execution_count": null,
   "metadata": {},
   "outputs": [],
   "source": [
    "import filecmp\n",
    "import difflib\n",
    "\n",
    "f1 = open('file_1.txt')\n",
    "f2 = open('file_2.txt')\n",
    "print(filecmp.cmp('file_1.txt','file_2.txt'))\n",
    "\n",
    "\n",
    "\n",
    "# with open('file_1.txt') as file_1:\n",
    "#     file_1_txt = file_1.readlines\n",
    "\n",
    "# with open('file_2.txt') as file_2:\n",
    "#     file_2_txt = file_2.readlines\n",
    "\n",
    "# for line in file_1_txt,file_2_txt:\n",
    "    \n",
    "\n",
    "# Importing difflib\n",
    "\n",
    "with open('file_1.txt') as file_1:\n",
    "\tfile_1_text = file_1.readlines()\n",
    "\n",
    "with open('file_2.txt') as file_2:\n",
    "\tfile_2_text = file_2.readlines()\n",
    "\n",
    "# Find and print the diff:\n",
    "for line in difflib.unified_diff(\n",
    "\t\tfile_1_text, file_2_text, fromfile='file_1.txt',\n",
    "\t\ttofile='file_2.txt', lineterm=''):\n",
    "\tprint(line)\n",
    "\n"
   ]
  },
  {
   "cell_type": "code",
   "execution_count": 4,
   "metadata": {},
   "outputs": [
    {
     "name": "stdout",
     "output_type": "stream",
     "text": [
      "False\n"
     ]
    }
   ],
   "source": [
    "x = [1,2,3,4,5]\n",
    "if 6 in x:\n",
    "    print('found')\n",
    "else:\n",
    "    print(False)\n",
    "# print(x)"
   ]
  },
  {
   "cell_type": "code",
   "execution_count": 12,
   "metadata": {},
   "outputs": [
    {
     "name": "stdout",
     "output_type": "stream",
     "text": [
      "29\n",
      "1\n"
     ]
    }
   ],
   "source": [
    "import calendar\n",
    "import datetime\n",
    "\n",
    "numb = calendar.monthrange(2028,2)[1]\n",
    "print(numb)\n",
    "wday = calendar.weekday(2022, 12, 6)\n",
    "print(wday)\n"
   ]
  },
  {
   "cell_type": "code",
   "execution_count": null,
   "metadata": {},
   "outputs": [],
   "source": [
    "from calendar import monthrange\n",
    "from sys import argv\n",
    "year = argv[0]\n",
    "month = argv[1]\n",
    "\n",
    "num_days = monthrange(year,month)[1]\n",
    "\n",
    "print(num_days)"
   ]
  },
  {
   "cell_type": "code",
   "execution_count": 11,
   "metadata": {},
   "outputs": [
    {
     "name": "stdout",
     "output_type": "stream",
     "text": [
      "The date is 2022-03-22 01:55:19\n",
      "The date is 2022-03-22\n",
      "The date is 2022-03-22\n"
     ]
    }
   ],
   "source": [
    "from datetime import datetime\n",
    "\n",
    "date_time_str = '2022-03-22 01:55:19'\n",
    "date_time_str1 = '2022-03-22'\n",
    "\n",
    "date_time_obj = datetime.strptime(date_time_str, '%Y-%m-%d %H:%M:%S')\n",
    "date_time_obj1 = datetime.strptime(date_time_str1, '%Y-%m-%d')\n",
    "\n",
    "\n",
    "print (\"The date is\", date_time_obj)\n",
    "print ('The date is {:%Y-%m-%d}'.format(date_time_obj1))\n",
    "print (f'The date is {date_time_obj1:%Y-%m-%d}')"
   ]
  },
  {
   "cell_type": "code",
   "execution_count": 3,
   "metadata": {},
   "outputs": [],
   "source": [
    "import requests\n",
    "r = requests.get('https://xkcd.com/353/')\n",
    "# print(r.content)\n",
    "with open ('file_content.txt','w') as f:\n",
    "    f.write(r.text)\n",
    "    # print(f)"
   ]
  },
  {
   "cell_type": "code",
   "execution_count": 14,
   "metadata": {},
   "outputs": [
    {
     "name": "stdout",
     "output_type": "stream",
     "text": [
      "this is a \n",
      "this is a \n"
     ]
    }
   ],
   "source": [
    "with open('recognized.txt','r') as f:\n",
    "    # print(f.readline())\n",
    "    text_size = 10\n",
    "    content = f.read(text_size)\n",
    "    print(content)\n",
    "    f.seek(0)\n",
    "    print(content)\n",
    "    # for line in f:\n",
    "    #     print(line,end='')"
   ]
  },
  {
   "cell_type": "code",
   "execution_count": 16,
   "metadata": {},
   "outputs": [],
   "source": [
    "with open('file_content.txt','r') as rf:\n",
    "    with open('file_copy1.txt','w') as wf:\n",
    "        # wf.write(rf.read())\n",
    "        for line in rf:\n",
    "            wf.write(line)"
   ]
  },
  {
   "cell_type": "code",
   "execution_count": null,
   "metadata": {},
   "outputs": [],
   "source": [
    "import requests\n",
    "\n",
    "photo = requests.get('https://imgs.xkcd.com/comics/python.png')\n",
    "# print(photo)\n",
    "with open('python.png','w') as pf:\n",
    "    pf.write(photo.content)\n",
    "    # print(pf)\n",
    "\n",
    "    # curl -XGET \"http://elasticsearch:9200/_cat/indices\""
   ]
  },
  {
   "cell_type": "code",
   "execution_count": 41,
   "metadata": {},
   "outputs": [
    {
     "name": "stdout",
     "output_type": "stream",
     "text": [
      "<Response [200]>\n"
     ]
    }
   ],
   "source": [
    "import requests\n",
    "kibana = requests.get('http://localhost:9200/')\n",
    "print(kibana)"
   ]
  },
  {
   "cell_type": "code",
   "execution_count": 38,
   "metadata": {},
   "outputs": [
    {
     "data": {
      "text/plain": [
       "Timestamp('2022-03-23 20:00:59.252000+0000', tz='UTC')"
      ]
     },
     "execution_count": 38,
     "metadata": {},
     "output_type": "execute_result"
    }
   ],
   "source": [
    "# import datetime as dt\n",
    "# ti =dt.date.fromtimestamp(1648065659252).strftime('%Y-%m-%d %H:%M:%S')\n",
    "# print(ti)\n",
    "import pandas as pd\n",
    "pd.to_datetime(int('1648065659252'), utc=True, unit='ms')"
   ]
  },
  {
   "cell_type": "code",
   "execution_count": null,
   "metadata": {},
   "outputs": [],
   "source": [
    "data = [1,2,3,4,5,6,7]\n",
    "temp = [d[1] for d in data]\n",
    "print(temp)"
   ]
  },
  {
   "cell_type": "code",
   "execution_count": 4,
   "metadata": {},
   "outputs": [
    {
     "name": "stdout",
     "output_type": "stream",
     "text": [
      "{'Name': 'Jennifer Smith', 'Contact Number': 7867567898, 'Email': 'jen123@gmail.com', 'Hobbies': ['Reading', 'Sketching', 'Horse Riding']}\n"
     ]
    }
   ],
   "source": [
    "import json\n",
    "\n",
    "# JSON string:\n",
    "# Multi-line string\n",
    "x = \"\"\"{\n",
    "\t\"Name\": \"Jennifer Smith\",\n",
    "\t\"Contact Number\": 7867567898,\n",
    "\t\"Email\": \"jen123@gmail.com\",\n",
    "\t\"Hobbies\":[\"Reading\", \"Sketching\", \"Horse Riding\"]\n",
    "\t}\"\"\"\n",
    "\n",
    "# parse x:\n",
    "y = json.loads(x)\n",
    "\n",
    "# the result is a Python dictionary:\n",
    "print(y)\n"
   ]
  }
 ],
 "metadata": {
  "interpreter": {
   "hash": "916dbcbb3f70747c44a77c7bcd40155683ae19c65e1c03b4aa3499c5328201f1"
  },
  "kernelspec": {
   "display_name": "Python 3.8.10 64-bit",
   "language": "python",
   "name": "python3"
  },
  "language_info": {
   "codemirror_mode": {
    "name": "ipython",
    "version": 3
   },
   "file_extension": ".py",
   "mimetype": "text/x-python",
   "name": "python",
   "nbconvert_exporter": "python",
   "pygments_lexer": "ipython3",
   "version": "3.8.10"
  },
  "orig_nbformat": 4
 },
 "nbformat": 4,
 "nbformat_minor": 2
}
